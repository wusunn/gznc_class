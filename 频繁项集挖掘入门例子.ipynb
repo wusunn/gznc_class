{
 "cells": [
  {
   "cell_type": "markdown",
   "id": "071ce0d5",
   "metadata": {},
   "source": [
    "# 频繁项挖掘"
   ]
  },
  {
   "cell_type": "code",
   "execution_count": 1,
   "id": "f74b8cf7",
   "metadata": {},
   "outputs": [],
   "source": [
    "import numpy as np\n",
    "import pandas as pd\n",
    "import itertools"
   ]
  },
  {
   "cell_type": "code",
   "execution_count": 2,
   "id": "2ee38078",
   "metadata": {},
   "outputs": [
    {
     "data": {
      "text/plain": [
       "[[1, 3, 4], [2, 3, 5], [1, 2, 3, 5], [2, 5]]"
      ]
     },
     "execution_count": 2,
     "metadata": {},
     "output_type": "execute_result"
    }
   ],
   "source": [
    "# 创建一个简单的数据集userBuyItems, 其中每一项表示用户购买的商品组合\n",
    "userBuyItems=[[1, 3, 4],[2, 3, 5],[1, 2, 3, 5],[2, 5]]\n",
    "userBuyItems"
   ]
  },
  {
   "cell_type": "code",
   "execution_count": 3,
   "id": "410adf8a",
   "metadata": {},
   "outputs": [
    {
     "data": {
      "text/plain": [
       "array([1, 2, 3, 4, 5])"
      ]
     },
     "execution_count": 3,
     "metadata": {},
     "output_type": "execute_result"
    }
   ],
   "source": [
    "# 获取商品的集合 goods \n",
    "\n",
    "tmp=[]\n",
    "for d1 in userBuyItems:\n",
    "    for item in d1:\n",
    "        tmp.append(item)\n",
    "goods=np.unique(tmp)\n",
    "goods"
   ]
  },
  {
   "cell_type": "code",
   "execution_count": 4,
   "id": "802444fb",
   "metadata": {},
   "outputs": [
    {
     "name": "stdout",
     "output_type": "stream",
     "text": [
      "good  1 is in  [1, 3, 4]\n",
      "=======good  2 is not in  [1, 3, 4]\n",
      "good  3 is in  [1, 3, 4]\n",
      "good  4 is in  [1, 3, 4]\n",
      "=======good  5 is not in  [1, 3, 4]\n",
      "=======good  1 is not in  [2, 3, 5]\n",
      "good  2 is in  [2, 3, 5]\n",
      "good  3 is in  [2, 3, 5]\n",
      "=======good  4 is not in  [2, 3, 5]\n",
      "good  5 is in  [2, 3, 5]\n",
      "good  1 is in  [1, 2, 3, 5]\n",
      "good  2 is in  [1, 2, 3, 5]\n",
      "good  3 is in  [1, 2, 3, 5]\n",
      "=======good  4 is not in  [1, 2, 3, 5]\n",
      "good  5 is in  [1, 2, 3, 5]\n",
      "=======good  1 is not in  [2, 5]\n",
      "good  2 is in  [2, 5]\n",
      "=======good  3 is not in  [2, 5]\n",
      "=======good  4 is not in  [2, 5]\n",
      "good  5 is in  [2, 5]\n"
     ]
    },
    {
     "data": {
      "text/plain": [
       "array([[1, 2],\n",
       "       [2, 3],\n",
       "       [3, 3],\n",
       "       [4, 1],\n",
       "       [5, 3]])"
      ]
     },
     "execution_count": 4,
     "metadata": {},
     "output_type": "execute_result"
    }
   ],
   "source": [
    "# 计算商品在购买组合中出现的频率FREQ1(次数)\n",
    "FREQ1_TEMP={}\n",
    "\n",
    "# 初始化\n",
    "for good in goods:\n",
    "    FREQ1_TEMP[good]=0\n",
    "    \n",
    "# 计算单个商品的频率\n",
    "for userBuyItem in userBuyItems:\n",
    "    for good in goods:\n",
    "        if good in userBuyItem:\n",
    "            FREQ1_TEMP[good]+=1\n",
    "            print(\"good \",good,\"is in \",userBuyItem)\n",
    "        else:\n",
    "            print(\"=======good \",good,\"is not in \",userBuyItem)\n",
    "FREQ1=np.array([i for i in FREQ1_TEMP.items()])\n",
    "FREQ1"
   ]
  },
  {
   "cell_type": "code",
   "execution_count": 5,
   "id": "fce9fa21",
   "metadata": {},
   "outputs": [
    {
     "data": {
      "text/plain": [
       "array([[1. , 0.4],\n",
       "       [2. , 0.6],\n",
       "       [3. , 0.6],\n",
       "       [4. , 0.2],\n",
       "       [5. , 0.6]])"
      ]
     },
     "execution_count": 5,
     "metadata": {},
     "output_type": "execute_result"
    }
   ],
   "source": [
    "# 计算单个商品的支持度 SP1\n",
    "SP1=np.divide(FREQ1,np.array([1,len(goods)]))\n",
    "SP1"
   ]
  },
  {
   "cell_type": "code",
   "execution_count": 6,
   "id": "76562650",
   "metadata": {},
   "outputs": [],
   "source": [
    "# 获取 支持度>0.5 的商品\n",
    "minSupport=0\n",
    "SUPPORT1_R1=SP1[SP1[:,1]>minSupport]"
   ]
  },
  {
   "cell_type": "code",
   "execution_count": 7,
   "id": "eae6c972",
   "metadata": {},
   "outputs": [
    {
     "data": {
      "text/plain": [
       "array([[1., 2.],\n",
       "       [1., 3.],\n",
       "       [1., 4.],\n",
       "       [1., 5.],\n",
       "       [2., 3.],\n",
       "       [2., 4.],\n",
       "       [2., 5.],\n",
       "       [3., 4.],\n",
       "       [3., 5.],\n",
       "       [4., 5.]])"
      ]
     },
     "execution_count": 7,
     "metadata": {},
     "output_type": "execute_result"
    }
   ],
   "source": [
    "# 生成二元组\n",
    "BINARY_SUPPORT_TEMP=[]\n",
    "for item in itertools.combinations(SUPPORT1_R1[:,0],2):\n",
    "    BINARY_SUPPORT_TEMP.append(np.array(item))\n",
    "\n",
    "BINARY_ITEMS=np.array(BINARY_SUPPORT_TEMP)\n",
    "BINARY_ITEMS"
   ]
  },
  {
   "cell_type": "code",
   "execution_count": 8,
   "id": "ce68f481",
   "metadata": {},
   "outputs": [
    {
     "name": "stdout",
     "output_type": "stream",
     "text": [
      "{'[1 2]': 0, '[1 3]': 0, '[1 4]': 0, '[1 5]': 0, '[2 3]': 0, '[2 4]': 0, '[2 5]': 0, '[3 4]': 0, '[3 5]': 0, '[4 5]': 0}\n",
      "intersect [1] good_conb  [1 2] userBuyItem [1 3 4] False\n",
      "intersect [1 3] good_conb  [1 3] userBuyItem [1 3 4] True\n",
      "intersect [1 4] good_conb  [1 4] userBuyItem [1 3 4] True\n",
      "intersect [1] good_conb  [1 5] userBuyItem [1 3 4] False\n",
      "intersect [3] good_conb  [2 3] userBuyItem [1 3 4] False\n",
      "intersect [4] good_conb  [2 4] userBuyItem [1 3 4] False\n",
      "intersect [1 1] good_conb  [2 5] userBuyItem [1 3 4] False\n",
      "intersect [3 4] good_conb  [3 4] userBuyItem [1 3 4] True\n",
      "intersect [3] good_conb  [3 5] userBuyItem [1 3 4] False\n",
      "intersect [4] good_conb  [4 5] userBuyItem [1 3 4] False\n",
      "intersect [2] good_conb  [1 2] userBuyItem [2 3 5] False\n",
      "intersect [3] good_conb  [1 3] userBuyItem [2 3 5] False\n",
      "intersect [1 1] good_conb  [1 4] userBuyItem [2 3 5] False\n",
      "intersect [5] good_conb  [1 5] userBuyItem [2 3 5] False\n",
      "intersect [2 3] good_conb  [2 3] userBuyItem [2 3 5] True\n",
      "intersect [2] good_conb  [2 4] userBuyItem [2 3 5] False\n",
      "intersect [2 5] good_conb  [2 5] userBuyItem [2 3 5] True\n",
      "intersect [3] good_conb  [3 4] userBuyItem [2 3 5] False\n",
      "intersect [3 5] good_conb  [3 5] userBuyItem [2 3 5] True\n",
      "intersect [5] good_conb  [4 5] userBuyItem [2 3 5] False\n",
      "intersect [1 2] good_conb  [1 2] userBuyItem [1 2 3 5] True\n",
      "intersect [1 3] good_conb  [1 3] userBuyItem [1 2 3 5] True\n",
      "intersect [1] good_conb  [1 4] userBuyItem [1 2 3 5] False\n",
      "intersect [1 5] good_conb  [1 5] userBuyItem [1 2 3 5] True\n",
      "intersect [2 3] good_conb  [2 3] userBuyItem [1 2 3 5] True\n",
      "intersect [2] good_conb  [2 4] userBuyItem [1 2 3 5] False\n",
      "intersect [2 5] good_conb  [2 5] userBuyItem [1 2 3 5] True\n",
      "intersect [3] good_conb  [3 4] userBuyItem [1 2 3 5] False\n",
      "intersect [3 5] good_conb  [3 5] userBuyItem [1 2 3 5] True\n",
      "intersect [5] good_conb  [4 5] userBuyItem [1 2 3 5] False\n",
      "intersect [2] good_conb  [1 2] userBuyItem [2 5] False\n",
      "intersect [1 1] good_conb  [1 3] userBuyItem [2 5] False\n",
      "intersect [1 1] good_conb  [1 4] userBuyItem [2 5] False\n",
      "intersect [5] good_conb  [1 5] userBuyItem [2 5] False\n",
      "intersect [2] good_conb  [2 3] userBuyItem [2 5] False\n",
      "intersect [2] good_conb  [2 4] userBuyItem [2 5] False\n",
      "intersect [2 5] good_conb  [2 5] userBuyItem [2 5] True\n",
      "intersect [1 1] good_conb  [3 4] userBuyItem [2 5] False\n",
      "intersect [5] good_conb  [3 5] userBuyItem [2 5] False\n",
      "intersect [5] good_conb  [4 5] userBuyItem [2 5] False\n"
     ]
    },
    {
     "data": {
      "text/plain": [
       "{'[1 2]': 1,\n",
       " '[1 3]': 2,\n",
       " '[1 4]': 1,\n",
       " '[1 5]': 1,\n",
       " '[2 3]': 2,\n",
       " '[2 4]': 0,\n",
       " '[2 5]': 3,\n",
       " '[3 4]': 1,\n",
       " '[3 5]': 2,\n",
       " '[4 5]': 0}"
      ]
     },
     "execution_count": 8,
     "metadata": {},
     "output_type": "execute_result"
    }
   ],
   "source": [
    "# 计算二元组的支持度\n",
    "# 计算单个商品的频率\n",
    "FREQ2={}\n",
    "for good_conb_binary in BINARY_ITEMS:\n",
    "    FREQ2[str(np.array(good_conb_binary,dtype=np.int32))]=0\n",
    "print(FREQ2)\n",
    "for userBuyItem in userBuyItems:\n",
    "    for good_conb_binary in BINARY_ITEMS:\n",
    "        good_conb_binary=np.array(good_conb_binary,dtype=np.int32)\n",
    "        userBuyItem=np.array(userBuyItem,dtype=np.int32)\n",
    "        intersect=np.intersect1d(good_conb_binary,userBuyItem)\n",
    "        # 处理空集\n",
    "        if len(intersect)==0:\n",
    "            intersect=np.array([1,1])\n",
    "            \n",
    "        # 计算出现的频率\n",
    "        print(\"intersect\",intersect,\"good_conb \",good_conb_binary,\"userBuyItem\",userBuyItem, (intersect==good_conb_binary).all())\n",
    "        if (intersect==good_conb_binary).all():\n",
    "            FREQ2[str(good_conb_binary)]+=1\n",
    "#         if  in userBuyItem:\n",
    "#             FREQ1_TEMP[good]+=1\n",
    "#             print(\"good_conb \",good_conb,\"is in \",userBuyItem)\n",
    "#         else:\n",
    "#             print(\"=======good \",good_conb,\"is not in \",userBuyItem)\n",
    "FREQ2"
   ]
  },
  {
   "cell_type": "code",
   "execution_count": 9,
   "id": "1ae86ff3",
   "metadata": {},
   "outputs": [
    {
     "name": "stdout",
     "output_type": "stream",
     "text": [
      "[1 2] 1\n",
      "[1 3] 2\n",
      "[1 4] 1\n",
      "[1 5] 1\n",
      "[2 3] 2\n",
      "[2 4] 0\n",
      "[2 5] 3\n",
      "[3 4] 1\n",
      "[3 5] 2\n",
      "[4 5] 0\n"
     ]
    },
    {
     "data": {
      "text/plain": [
       "{'[1 2]': 0.2,\n",
       " '[1 3]': 0.4,\n",
       " '[1 4]': 0.2,\n",
       " '[1 5]': 0.2,\n",
       " '[2 3]': 0.4,\n",
       " '[2 4]': 0.0,\n",
       " '[2 5]': 0.6,\n",
       " '[3 4]': 0.2,\n",
       " '[3 5]': 0.4,\n",
       " '[4 5]': 0.0}"
      ]
     },
     "execution_count": 9,
     "metadata": {},
     "output_type": "execute_result"
    }
   ],
   "source": [
    "SP2={}\n",
    "for i,v in FREQ2.items():\n",
    "    print(i,v)\n",
    "    SP2[i]=np.divide(v,len(goods))\n",
    "SP2"
   ]
  },
  {
   "cell_type": "code",
   "execution_count": 10,
   "id": "938aea11",
   "metadata": {},
   "outputs": [
    {
     "name": "stdout",
     "output_type": "stream",
     "text": [
      "1 --> 2 : 0.5\n",
      "1 --> 3 : 1.0\n",
      "1 --> 4 : 0.5\n",
      "1 --> 5 : 0.5\n",
      "2 --> 3 : 0.6666666666666667\n",
      "2 --> 4 : 0.0\n",
      "2 --> 5 : 1.0\n",
      "3 --> 4 : 0.33333333333333337\n",
      "3 --> 5 : 0.6666666666666667\n",
      "4 --> 5 : 0.0\n",
      "原始项目 [[1, 3, 4], [2, 3, 5], [1, 2, 3, 5], [2, 5]]\n"
     ]
    }
   ],
   "source": [
    "def getFirstItemSupport(key):\n",
    "    return (SP1[SP1[:,0]==float(key[1])][0][1])\n",
    "    \n",
    "# 计算二元组的可信度\n",
    "for key,val in SP2.items():\n",
    "    print( key[1],\"-->\",key[3],\":\",val/getFirstItemSupport(key))\n",
    "print(\"原始项目\",userBuyItems)"
   ]
  },
  {
   "cell_type": "markdown",
   "id": "ebd5f293",
   "metadata": {},
   "source": [
    "购买2之后，购买3的概率是0.67\n",
    "购买3只后，购买5的概率是1"
   ]
  }
 ],
 "metadata": {
  "kernelspec": {
   "display_name": "Python 3 (ipykernel)",
   "language": "python",
   "name": "python3"
  },
  "language_info": {
   "codemirror_mode": {
    "name": "ipython",
    "version": 3
   },
   "file_extension": ".py",
   "mimetype": "text/x-python",
   "name": "python",
   "nbconvert_exporter": "python",
   "pygments_lexer": "ipython3",
   "version": "3.8.8"
  }
 },
 "nbformat": 4,
 "nbformat_minor": 5
}
